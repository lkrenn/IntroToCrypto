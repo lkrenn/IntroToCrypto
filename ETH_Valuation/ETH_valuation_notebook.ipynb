{
 "cells": [
  {
   "cell_type": "markdown",
   "metadata": {},
   "source": [
    "# ETH Valuation\n",
    "\n",
    "In this notebook, I will be looking at a valuation strategy presented by John Pfeffer in his paper An (Institutional) Investor's Take on Cryptoassets. In the paper, Pfeffer posits that the total network value of a cryptocurrency is analogous to the money supply, M. M is measured as:\n",
    "\n",
    "$$\n",
    "\\text{Money Supply} =~\\frac{\\text{Price}\\times\\text{Quantity}}{\\text{Velocity}}\n",
    "$$\n",
    "\n",
    "If we were to adjust this formula to the world of cryptocurrencies, we would get the following formula:\n",
    "\n",
    "$$\n",
    "\\begin{aligned}\n",
    "\\text{Total Network Value} =~\\frac{\\text{Total Cost of Consumed Computational Resources}}{\\text{Velocity}}\n",
    "\\end{aligned}\n",
    "$$\n",
    "\n",
    "This seems to be a natural first step, and acts as a foothold to wrap our heads around the valuation of a crypto. If we jump to page 10, Pfeffer gives us an idea of valuing ETH under the assumption that the only value it has is as a utility token. "
   ]
  },
  {
   "cell_type": "code",
   "execution_count": null,
   "metadata": {},
   "outputs": [],
   "source": []
  }
 ],
 "metadata": {
  "kernelspec": {
   "display_name": "Python 3",
   "language": "python",
   "name": "python3"
  },
  "language_info": {
   "codemirror_mode": {
    "name": "ipython",
    "version": 3
   },
   "file_extension": ".py",
   "mimetype": "text/x-python",
   "name": "python",
   "nbconvert_exporter": "python",
   "pygments_lexer": "ipython3",
   "version": "3.7.4"
  }
 },
 "nbformat": 4,
 "nbformat_minor": 2
}
